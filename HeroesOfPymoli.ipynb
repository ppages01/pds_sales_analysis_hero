{
 "cells": [
  {
   "cell_type": "code",
   "execution_count": 1,
   "metadata": {},
   "outputs": [],
   "source": [
    "# Dependencies and Setup\n",
    "import pandas as pd\n",
    "\n",
    "# File to Load (Remember to Change These)\n",
    "file_to_load = \"Resources/purchase_data.csv\"\n",
    "\n",
    "# Read Purchasing File and store into Pandas data frame\n",
    "purchase_data = pd.read_csv(file_to_load)"
   ]
  },
  {
   "cell_type": "markdown",
   "metadata": {},
   "source": [
    "## Player Count"
   ]
  },
  {
   "cell_type": "code",
   "execution_count": 2,
   "metadata": {},
   "outputs": [],
   "source": [
    "df = purchase_data.assign(like=True)"
   ]
  },
  {
   "cell_type": "code",
   "execution_count": 3,
   "metadata": {},
   "outputs": [],
   "source": [
    "df = df.drop('like',axis=1)"
   ]
  },
  {
   "cell_type": "code",
   "execution_count": 4,
   "metadata": {},
   "outputs": [
    {
     "data": {
      "text/html": [
       "<div>\n",
       "<style scoped>\n",
       "    .dataframe tbody tr th:only-of-type {\n",
       "        vertical-align: middle;\n",
       "    }\n",
       "\n",
       "    .dataframe tbody tr th {\n",
       "        vertical-align: top;\n",
       "    }\n",
       "\n",
       "    .dataframe thead th {\n",
       "        text-align: right;\n",
       "    }\n",
       "</style>\n",
       "<table border=\"1\" class=\"dataframe\">\n",
       "  <thead>\n",
       "    <tr style=\"text-align: right;\">\n",
       "      <th></th>\n",
       "      <th>Purchase ID</th>\n",
       "      <th>SN</th>\n",
       "      <th>Age</th>\n",
       "      <th>Gender</th>\n",
       "      <th>Item ID</th>\n",
       "      <th>Item Name</th>\n",
       "      <th>Price</th>\n",
       "    </tr>\n",
       "  </thead>\n",
       "  <tbody>\n",
       "    <tr>\n",
       "      <th>0</th>\n",
       "      <td>0</td>\n",
       "      <td>Lisim78</td>\n",
       "      <td>20</td>\n",
       "      <td>Male</td>\n",
       "      <td>108</td>\n",
       "      <td>Extraction, Quickblade Of Trembling Hands</td>\n",
       "      <td>3.53</td>\n",
       "    </tr>\n",
       "    <tr>\n",
       "      <th>1</th>\n",
       "      <td>1</td>\n",
       "      <td>Lisovynya38</td>\n",
       "      <td>40</td>\n",
       "      <td>Male</td>\n",
       "      <td>143</td>\n",
       "      <td>Frenzied Scimitar</td>\n",
       "      <td>1.56</td>\n",
       "    </tr>\n",
       "    <tr>\n",
       "      <th>2</th>\n",
       "      <td>2</td>\n",
       "      <td>Ithergue48</td>\n",
       "      <td>24</td>\n",
       "      <td>Male</td>\n",
       "      <td>92</td>\n",
       "      <td>Final Critic</td>\n",
       "      <td>4.88</td>\n",
       "    </tr>\n",
       "    <tr>\n",
       "      <th>3</th>\n",
       "      <td>3</td>\n",
       "      <td>Chamassasya86</td>\n",
       "      <td>24</td>\n",
       "      <td>Male</td>\n",
       "      <td>100</td>\n",
       "      <td>Blindscythe</td>\n",
       "      <td>3.27</td>\n",
       "    </tr>\n",
       "    <tr>\n",
       "      <th>4</th>\n",
       "      <td>4</td>\n",
       "      <td>Iskosia90</td>\n",
       "      <td>23</td>\n",
       "      <td>Male</td>\n",
       "      <td>131</td>\n",
       "      <td>Fury</td>\n",
       "      <td>1.44</td>\n",
       "    </tr>\n",
       "  </tbody>\n",
       "</table>\n",
       "</div>"
      ],
      "text/plain": [
       "   Purchase ID             SN  Age Gender  Item ID  \\\n",
       "0            0        Lisim78   20   Male      108   \n",
       "1            1    Lisovynya38   40   Male      143   \n",
       "2            2     Ithergue48   24   Male       92   \n",
       "3            3  Chamassasya86   24   Male      100   \n",
       "4            4      Iskosia90   23   Male      131   \n",
       "\n",
       "                                   Item Name  Price  \n",
       "0  Extraction, Quickblade Of Trembling Hands   3.53  \n",
       "1                          Frenzied Scimitar   1.56  \n",
       "2                               Final Critic   4.88  \n",
       "3                                Blindscythe   3.27  \n",
       "4                                       Fury   1.44  "
      ]
     },
     "execution_count": 4,
     "metadata": {},
     "output_type": "execute_result"
    }
   ],
   "source": [
    "df.head()"
   ]
  },
  {
   "cell_type": "markdown",
   "metadata": {},
   "source": [
    "* Display the total number of players\n"
   ]
  },
  {
   "cell_type": "code",
   "execution_count": 5,
   "metadata": {},
   "outputs": [
    {
     "data": {
      "text/html": [
       "<div>\n",
       "<style scoped>\n",
       "    .dataframe tbody tr th:only-of-type {\n",
       "        vertical-align: middle;\n",
       "    }\n",
       "\n",
       "    .dataframe tbody tr th {\n",
       "        vertical-align: top;\n",
       "    }\n",
       "\n",
       "    .dataframe thead th {\n",
       "        text-align: right;\n",
       "    }\n",
       "</style>\n",
       "<table border=\"1\" class=\"dataframe\">\n",
       "  <thead>\n",
       "    <tr style=\"text-align: right;\">\n",
       "      <th></th>\n",
       "      <th>Total Players</th>\n",
       "    </tr>\n",
       "  </thead>\n",
       "  <tbody>\n",
       "    <tr>\n",
       "      <th>0</th>\n",
       "      <td>576</td>\n",
       "    </tr>\n",
       "  </tbody>\n",
       "</table>\n",
       "</div>"
      ],
      "text/plain": [
       "   Total Players\n",
       "0            576"
      ]
     },
     "execution_count": 5,
     "metadata": {},
     "output_type": "execute_result"
    }
   ],
   "source": [
    "players = df['SN'].nunique()\n",
    "pd.DataFrame({'Total Players': [players]})\n"
   ]
  },
  {
   "cell_type": "markdown",
   "metadata": {},
   "source": [
    "## Purchasing Analysis (Total)"
   ]
  },
  {
   "cell_type": "markdown",
   "metadata": {},
   "source": [
    "* Run basic calculations to obtain number of unique items, average price, etc.\n",
    "\n",
    "\n",
    "* Create a summary data frame to hold the results\n",
    "\n",
    "\n",
    "* Optional: give the displayed data cleaner formatting\n",
    "\n",
    "\n",
    "* Display the summary data frame\n"
   ]
  },
  {
   "cell_type": "code",
   "execution_count": 6,
   "metadata": {},
   "outputs": [],
   "source": [
    "unique_items = df['Item Name'].nunique()"
   ]
  },
  {
   "cell_type": "code",
   "execution_count": 7,
   "metadata": {},
   "outputs": [],
   "source": [
    "average_price = df['Price'].mean()"
   ]
  },
  {
   "cell_type": "code",
   "execution_count": 8,
   "metadata": {},
   "outputs": [],
   "source": [
    "purchase_count = df['Purchase ID'].count()"
   ]
  },
  {
   "cell_type": "code",
   "execution_count": 9,
   "metadata": {},
   "outputs": [],
   "source": [
    "revenue = df['Price'].sum()"
   ]
  },
  {
   "cell_type": "code",
   "execution_count": 10,
   "metadata": {},
   "outputs": [],
   "source": [
    "data = ({'Number of Unique Items':[unique_items],'Average Price':[average_price],\\\n",
    "             'Number of Purchases':[purchase_count],'Total Revenue':[revenue]})"
   ]
  },
  {
   "cell_type": "code",
   "execution_count": 11,
   "metadata": {},
   "outputs": [],
   "source": [
    "summary = pd.DataFrame(data)"
   ]
  },
  {
   "cell_type": "code",
   "execution_count": 12,
   "metadata": {
    "scrolled": true
   },
   "outputs": [
    {
     "data": {
      "text/html": [
       "<style  type=\"text/css\" >\n",
       "</style><table id=\"T_f4c2dc58_e4b6_11ea_a9bb_9c2a7085c132\" ><thead>    <tr>        <th class=\"blank level0\" ></th>        <th class=\"col_heading level0 col0\" >Number of Unique Items</th>        <th class=\"col_heading level0 col1\" >Average Price</th>        <th class=\"col_heading level0 col2\" >Number of Purchases</th>        <th class=\"col_heading level0 col3\" >Total Revenue</th>    </tr></thead><tbody>\n",
       "                <tr>\n",
       "                        <th id=\"T_f4c2dc58_e4b6_11ea_a9bb_9c2a7085c132level0_row0\" class=\"row_heading level0 row0\" >0</th>\n",
       "                        <td id=\"T_f4c2dc58_e4b6_11ea_a9bb_9c2a7085c132row0_col0\" class=\"data row0 col0\" >179</td>\n",
       "                        <td id=\"T_f4c2dc58_e4b6_11ea_a9bb_9c2a7085c132row0_col1\" class=\"data row0 col1\" >$                3.05</td>\n",
       "                        <td id=\"T_f4c2dc58_e4b6_11ea_a9bb_9c2a7085c132row0_col2\" class=\"data row0 col2\" >780</td>\n",
       "                        <td id=\"T_f4c2dc58_e4b6_11ea_a9bb_9c2a7085c132row0_col3\" class=\"data row0 col3\" >$            2,379.77</td>\n",
       "            </tr>\n",
       "    </tbody></table>"
      ],
      "text/plain": [
       "<pandas.io.formats.style.Styler at 0x2e9ef7ccf08>"
      ]
     },
     "execution_count": 12,
     "metadata": {},
     "output_type": "execute_result"
    }
   ],
   "source": [
    "summary.style.format({\"Average Price\": \"${:20,.2f}\",\\\n",
    "                               \"Total Revenue\": \"${:20,.2f}\"})\n",
    "                              "
   ]
  },
  {
   "cell_type": "markdown",
   "metadata": {},
   "source": [
    "## Gender Demographics"
   ]
  },
  {
   "cell_type": "markdown",
   "metadata": {},
   "source": [
    "* Percentage and Count of Male Players\n",
    "\n",
    "\n",
    "* Percentage and Count of Female Players\n",
    "\n",
    "\n",
    "* Percentage and Count of Other / Non-Disclosed\n",
    "\n",
    "\n"
   ]
  },
  {
   "cell_type": "code",
   "execution_count": 13,
   "metadata": {},
   "outputs": [],
   "source": [
    "males_count = df[df['Gender'] == 'Male']['SN'].nunique()"
   ]
  },
  {
   "cell_type": "code",
   "execution_count": 14,
   "metadata": {},
   "outputs": [],
   "source": [
    "females_count = df[df['Gender'] == 'Female']['SN'].nunique()"
   ]
  },
  {
   "cell_type": "code",
   "execution_count": 15,
   "metadata": {},
   "outputs": [],
   "source": [
    "others_count = df[df['Gender'] == 'Other / Non-Disclosed']['SN'].nunique()"
   ]
  },
  {
   "cell_type": "code",
   "execution_count": 16,
   "metadata": {},
   "outputs": [],
   "source": [
    "total = df['SN'].nunique()"
   ]
  },
  {
   "cell_type": "code",
   "execution_count": 17,
   "metadata": {},
   "outputs": [],
   "source": [
    "male_portion = males_count/total*100\n",
    "female_portion = females_count/total*100\n",
    "others_portion = others_count/total*100"
   ]
  },
  {
   "cell_type": "code",
   "execution_count": 18,
   "metadata": {},
   "outputs": [],
   "source": [
    "data = ({'Total Count':[males_count,females_count,others_count],\\\n",
    "         'Percentage of Players': [male_portion,female_portion,others_portion]})\n",
    "index = ['Male','Female','Other / Non-Disclosed']"
   ]
  },
  {
   "cell_type": "code",
   "execution_count": 19,
   "metadata": {},
   "outputs": [],
   "source": [
    "gender_summary = pd.DataFrame(data,index=index)"
   ]
  },
  {
   "cell_type": "code",
   "execution_count": 20,
   "metadata": {},
   "outputs": [
    {
     "data": {
      "text/html": [
       "<style  type=\"text/css\" >\n",
       "</style><table id=\"T_f4d76fba_e4b6_11ea_ae35_9c2a7085c132\" ><thead>    <tr>        <th class=\"blank level0\" ></th>        <th class=\"col_heading level0 col0\" >Total Count</th>        <th class=\"col_heading level0 col1\" >Percentage of Players</th>    </tr></thead><tbody>\n",
       "                <tr>\n",
       "                        <th id=\"T_f4d76fba_e4b6_11ea_ae35_9c2a7085c132level0_row0\" class=\"row_heading level0 row0\" >Male</th>\n",
       "                        <td id=\"T_f4d76fba_e4b6_11ea_ae35_9c2a7085c132row0_col0\" class=\"data row0 col0\" >484</td>\n",
       "                        <td id=\"T_f4d76fba_e4b6_11ea_ae35_9c2a7085c132row0_col1\" class=\"data row0 col1\" >84.03%</td>\n",
       "            </tr>\n",
       "            <tr>\n",
       "                        <th id=\"T_f4d76fba_e4b6_11ea_ae35_9c2a7085c132level0_row1\" class=\"row_heading level0 row1\" >Female</th>\n",
       "                        <td id=\"T_f4d76fba_e4b6_11ea_ae35_9c2a7085c132row1_col0\" class=\"data row1 col0\" >81</td>\n",
       "                        <td id=\"T_f4d76fba_e4b6_11ea_ae35_9c2a7085c132row1_col1\" class=\"data row1 col1\" >14.06%</td>\n",
       "            </tr>\n",
       "            <tr>\n",
       "                        <th id=\"T_f4d76fba_e4b6_11ea_ae35_9c2a7085c132level0_row2\" class=\"row_heading level0 row2\" >Other / Non-Disclosed</th>\n",
       "                        <td id=\"T_f4d76fba_e4b6_11ea_ae35_9c2a7085c132row2_col0\" class=\"data row2 col0\" >11</td>\n",
       "                        <td id=\"T_f4d76fba_e4b6_11ea_ae35_9c2a7085c132row2_col1\" class=\"data row2 col1\" >1.91%</td>\n",
       "            </tr>\n",
       "    </tbody></table>"
      ],
      "text/plain": [
       "<pandas.io.formats.style.Styler at 0x2e9efe49e08>"
      ]
     },
     "execution_count": 20,
     "metadata": {},
     "output_type": "execute_result"
    }
   ],
   "source": [
    "gender_summary.style.format({'Percentage of Players':\"{:.2f}%\"})"
   ]
  },
  {
   "cell_type": "markdown",
   "metadata": {},
   "source": [
    "\n",
    "## Purchasing Analysis (Gender)"
   ]
  },
  {
   "cell_type": "markdown",
   "metadata": {},
   "source": [
    "* Run basic calculations to obtain purchase count, avg. purchase price, avg. purchase total per person etc. by gender\n",
    "\n",
    "\n",
    "\n",
    "\n",
    "* Create a summary data frame to hold the results\n",
    "\n",
    "\n",
    "* Optional: give the displayed data cleaner formatting\n",
    "\n",
    "\n",
    "* Display the summary data frame"
   ]
  },
  {
   "cell_type": "code",
   "execution_count": 21,
   "metadata": {},
   "outputs": [
    {
     "data": {
      "text/html": [
       "<div>\n",
       "<style scoped>\n",
       "    .dataframe tbody tr th:only-of-type {\n",
       "        vertical-align: middle;\n",
       "    }\n",
       "\n",
       "    .dataframe tbody tr th {\n",
       "        vertical-align: top;\n",
       "    }\n",
       "\n",
       "    .dataframe thead th {\n",
       "        text-align: right;\n",
       "    }\n",
       "</style>\n",
       "<table border=\"1\" class=\"dataframe\">\n",
       "  <thead>\n",
       "    <tr style=\"text-align: right;\">\n",
       "      <th></th>\n",
       "      <th>Purchase ID</th>\n",
       "      <th>SN</th>\n",
       "      <th>Age</th>\n",
       "      <th>Gender</th>\n",
       "      <th>Item ID</th>\n",
       "      <th>Item Name</th>\n",
       "      <th>Price</th>\n",
       "    </tr>\n",
       "  </thead>\n",
       "  <tbody>\n",
       "    <tr>\n",
       "      <th>0</th>\n",
       "      <td>0</td>\n",
       "      <td>Lisim78</td>\n",
       "      <td>20</td>\n",
       "      <td>Male</td>\n",
       "      <td>108</td>\n",
       "      <td>Extraction, Quickblade Of Trembling Hands</td>\n",
       "      <td>3.53</td>\n",
       "    </tr>\n",
       "    <tr>\n",
       "      <th>1</th>\n",
       "      <td>1</td>\n",
       "      <td>Lisovynya38</td>\n",
       "      <td>40</td>\n",
       "      <td>Male</td>\n",
       "      <td>143</td>\n",
       "      <td>Frenzied Scimitar</td>\n",
       "      <td>1.56</td>\n",
       "    </tr>\n",
       "    <tr>\n",
       "      <th>2</th>\n",
       "      <td>2</td>\n",
       "      <td>Ithergue48</td>\n",
       "      <td>24</td>\n",
       "      <td>Male</td>\n",
       "      <td>92</td>\n",
       "      <td>Final Critic</td>\n",
       "      <td>4.88</td>\n",
       "    </tr>\n",
       "    <tr>\n",
       "      <th>3</th>\n",
       "      <td>3</td>\n",
       "      <td>Chamassasya86</td>\n",
       "      <td>24</td>\n",
       "      <td>Male</td>\n",
       "      <td>100</td>\n",
       "      <td>Blindscythe</td>\n",
       "      <td>3.27</td>\n",
       "    </tr>\n",
       "    <tr>\n",
       "      <th>4</th>\n",
       "      <td>4</td>\n",
       "      <td>Iskosia90</td>\n",
       "      <td>23</td>\n",
       "      <td>Male</td>\n",
       "      <td>131</td>\n",
       "      <td>Fury</td>\n",
       "      <td>1.44</td>\n",
       "    </tr>\n",
       "  </tbody>\n",
       "</table>\n",
       "</div>"
      ],
      "text/plain": [
       "   Purchase ID             SN  Age Gender  Item ID  \\\n",
       "0            0        Lisim78   20   Male      108   \n",
       "1            1    Lisovynya38   40   Male      143   \n",
       "2            2     Ithergue48   24   Male       92   \n",
       "3            3  Chamassasya86   24   Male      100   \n",
       "4            4      Iskosia90   23   Male      131   \n",
       "\n",
       "                                   Item Name  Price  \n",
       "0  Extraction, Quickblade Of Trembling Hands   3.53  \n",
       "1                          Frenzied Scimitar   1.56  \n",
       "2                               Final Critic   4.88  \n",
       "3                                Blindscythe   3.27  \n",
       "4                                       Fury   1.44  "
      ]
     },
     "execution_count": 21,
     "metadata": {},
     "output_type": "execute_result"
    }
   ],
   "source": [
    "df.head()"
   ]
  },
  {
   "cell_type": "code",
   "execution_count": 22,
   "metadata": {},
   "outputs": [],
   "source": [
    "result = df.groupby(['Gender']).agg(['count','mean','sum'])['Price']\\\n",
    "                      .rename(columns={'count':'Purchase Count',\\\n",
    "                                'mean':'Average Purchase Price',\\\n",
    "                                'sum':'Total Purchase Value'})"
   ]
  },
  {
   "cell_type": "code",
   "execution_count": 23,
   "metadata": {},
   "outputs": [
    {
     "data": {
      "text/html": [
       "<div>\n",
       "<style scoped>\n",
       "    .dataframe tbody tr th:only-of-type {\n",
       "        vertical-align: middle;\n",
       "    }\n",
       "\n",
       "    .dataframe tbody tr th {\n",
       "        vertical-align: top;\n",
       "    }\n",
       "\n",
       "    .dataframe thead th {\n",
       "        text-align: right;\n",
       "    }\n",
       "</style>\n",
       "<table border=\"1\" class=\"dataframe\">\n",
       "  <thead>\n",
       "    <tr style=\"text-align: right;\">\n",
       "      <th></th>\n",
       "      <th>Purchase Count</th>\n",
       "      <th>Average Purchase Price</th>\n",
       "      <th>Total Purchase Value</th>\n",
       "    </tr>\n",
       "    <tr>\n",
       "      <th>Gender</th>\n",
       "      <th></th>\n",
       "      <th></th>\n",
       "      <th></th>\n",
       "    </tr>\n",
       "  </thead>\n",
       "  <tbody>\n",
       "    <tr>\n",
       "      <th>Female</th>\n",
       "      <td>113</td>\n",
       "      <td>3.203009</td>\n",
       "      <td>361.94</td>\n",
       "    </tr>\n",
       "    <tr>\n",
       "      <th>Male</th>\n",
       "      <td>652</td>\n",
       "      <td>3.017853</td>\n",
       "      <td>1967.64</td>\n",
       "    </tr>\n",
       "    <tr>\n",
       "      <th>Other / Non-Disclosed</th>\n",
       "      <td>15</td>\n",
       "      <td>3.346000</td>\n",
       "      <td>50.19</td>\n",
       "    </tr>\n",
       "  </tbody>\n",
       "</table>\n",
       "</div>"
      ],
      "text/plain": [
       "                       Purchase Count  Average Purchase Price  \\\n",
       "Gender                                                          \n",
       "Female                            113                3.203009   \n",
       "Male                              652                3.017853   \n",
       "Other / Non-Disclosed              15                3.346000   \n",
       "\n",
       "                       Total Purchase Value  \n",
       "Gender                                       \n",
       "Female                               361.94  \n",
       "Male                                1967.64  \n",
       "Other / Non-Disclosed                 50.19  "
      ]
     },
     "execution_count": 23,
     "metadata": {},
     "output_type": "execute_result"
    }
   ],
   "source": [
    "result"
   ]
  },
  {
   "cell_type": "code",
   "execution_count": 24,
   "metadata": {},
   "outputs": [],
   "source": [
    "result['Avg Total Purchase per Person'] = result['Total Purchase Value']/gender_summary['Total Count']"
   ]
  },
  {
   "cell_type": "code",
   "execution_count": 25,
   "metadata": {},
   "outputs": [
    {
     "data": {
      "text/html": [
       "<style  type=\"text/css\" >\n",
       "</style><table id=\"T_f4f55442_e4b6_11ea_8798_9c2a7085c132\" ><thead>    <tr>        <th class=\"blank level0\" ></th>        <th class=\"col_heading level0 col0\" >Purchase Count</th>        <th class=\"col_heading level0 col1\" >Average Purchase Price</th>        <th class=\"col_heading level0 col2\" >Total Purchase Value</th>        <th class=\"col_heading level0 col3\" >Avg Total Purchase per Person</th>    </tr>    <tr>        <th class=\"index_name level0\" >Gender</th>        <th class=\"blank\" ></th>        <th class=\"blank\" ></th>        <th class=\"blank\" ></th>        <th class=\"blank\" ></th>    </tr></thead><tbody>\n",
       "                <tr>\n",
       "                        <th id=\"T_f4f55442_e4b6_11ea_8798_9c2a7085c132level0_row0\" class=\"row_heading level0 row0\" >Female</th>\n",
       "                        <td id=\"T_f4f55442_e4b6_11ea_8798_9c2a7085c132row0_col0\" class=\"data row0 col0\" >113</td>\n",
       "                        <td id=\"T_f4f55442_e4b6_11ea_8798_9c2a7085c132row0_col1\" class=\"data row0 col1\" >$                3.20</td>\n",
       "                        <td id=\"T_f4f55442_e4b6_11ea_8798_9c2a7085c132row0_col2\" class=\"data row0 col2\" >$              361.94</td>\n",
       "                        <td id=\"T_f4f55442_e4b6_11ea_8798_9c2a7085c132row0_col3\" class=\"data row0 col3\" >$                4.47</td>\n",
       "            </tr>\n",
       "            <tr>\n",
       "                        <th id=\"T_f4f55442_e4b6_11ea_8798_9c2a7085c132level0_row1\" class=\"row_heading level0 row1\" >Male</th>\n",
       "                        <td id=\"T_f4f55442_e4b6_11ea_8798_9c2a7085c132row1_col0\" class=\"data row1 col0\" >652</td>\n",
       "                        <td id=\"T_f4f55442_e4b6_11ea_8798_9c2a7085c132row1_col1\" class=\"data row1 col1\" >$                3.02</td>\n",
       "                        <td id=\"T_f4f55442_e4b6_11ea_8798_9c2a7085c132row1_col2\" class=\"data row1 col2\" >$            1,967.64</td>\n",
       "                        <td id=\"T_f4f55442_e4b6_11ea_8798_9c2a7085c132row1_col3\" class=\"data row1 col3\" >$                4.07</td>\n",
       "            </tr>\n",
       "            <tr>\n",
       "                        <th id=\"T_f4f55442_e4b6_11ea_8798_9c2a7085c132level0_row2\" class=\"row_heading level0 row2\" >Other / Non-Disclosed</th>\n",
       "                        <td id=\"T_f4f55442_e4b6_11ea_8798_9c2a7085c132row2_col0\" class=\"data row2 col0\" >15</td>\n",
       "                        <td id=\"T_f4f55442_e4b6_11ea_8798_9c2a7085c132row2_col1\" class=\"data row2 col1\" >$                3.35</td>\n",
       "                        <td id=\"T_f4f55442_e4b6_11ea_8798_9c2a7085c132row2_col2\" class=\"data row2 col2\" >$               50.19</td>\n",
       "                        <td id=\"T_f4f55442_e4b6_11ea_8798_9c2a7085c132row2_col3\" class=\"data row2 col3\" >$                4.56</td>\n",
       "            </tr>\n",
       "    </tbody></table>"
      ],
      "text/plain": [
       "<pandas.io.formats.style.Styler at 0x2e9eff11e88>"
      ]
     },
     "execution_count": 25,
     "metadata": {},
     "output_type": "execute_result"
    }
   ],
   "source": [
    "result.style.format({\"Average Purchase Price\": \"${:20,.2f}\",\\\n",
    "                       \"Total Purchase Value\": \"${:20,.2f}\",\\\n",
    "                       \"Avg Total Purchase per Person\": \"${:20,.2f}\"})"
   ]
  },
  {
   "cell_type": "markdown",
   "metadata": {},
   "source": [
    "## Age Demographics"
   ]
  },
  {
   "cell_type": "markdown",
   "metadata": {},
   "source": [
    "* Establish bins for ages\n",
    "\n",
    "\n",
    "* Categorize the existing players using the age bins. Hint: use pd.cut()\n",
    "\n",
    "\n",
    "* Calculate the numbers and percentages by age group\n",
    "\n",
    "\n",
    "* Create a summary data frame to hold the results\n",
    "\n",
    "\n",
    "* Optional: round the percentage column to two decimal points\n",
    "\n",
    "\n",
    "* Display Age Demographics Table\n"
   ]
  },
  {
   "cell_type": "code",
   "execution_count": 26,
   "metadata": {},
   "outputs": [
    {
     "data": {
      "text/html": [
       "<div>\n",
       "<style scoped>\n",
       "    .dataframe tbody tr th:only-of-type {\n",
       "        vertical-align: middle;\n",
       "    }\n",
       "\n",
       "    .dataframe tbody tr th {\n",
       "        vertical-align: top;\n",
       "    }\n",
       "\n",
       "    .dataframe thead th {\n",
       "        text-align: right;\n",
       "    }\n",
       "</style>\n",
       "<table border=\"1\" class=\"dataframe\">\n",
       "  <thead>\n",
       "    <tr style=\"text-align: right;\">\n",
       "      <th></th>\n",
       "      <th>Purchase ID</th>\n",
       "      <th>SN</th>\n",
       "      <th>Age</th>\n",
       "      <th>Gender</th>\n",
       "      <th>Item ID</th>\n",
       "      <th>Item Name</th>\n",
       "      <th>Price</th>\n",
       "    </tr>\n",
       "  </thead>\n",
       "  <tbody>\n",
       "    <tr>\n",
       "      <th>0</th>\n",
       "      <td>0</td>\n",
       "      <td>Lisim78</td>\n",
       "      <td>20</td>\n",
       "      <td>Male</td>\n",
       "      <td>108</td>\n",
       "      <td>Extraction, Quickblade Of Trembling Hands</td>\n",
       "      <td>3.53</td>\n",
       "    </tr>\n",
       "    <tr>\n",
       "      <th>1</th>\n",
       "      <td>1</td>\n",
       "      <td>Lisovynya38</td>\n",
       "      <td>40</td>\n",
       "      <td>Male</td>\n",
       "      <td>143</td>\n",
       "      <td>Frenzied Scimitar</td>\n",
       "      <td>1.56</td>\n",
       "    </tr>\n",
       "    <tr>\n",
       "      <th>2</th>\n",
       "      <td>2</td>\n",
       "      <td>Ithergue48</td>\n",
       "      <td>24</td>\n",
       "      <td>Male</td>\n",
       "      <td>92</td>\n",
       "      <td>Final Critic</td>\n",
       "      <td>4.88</td>\n",
       "    </tr>\n",
       "    <tr>\n",
       "      <th>3</th>\n",
       "      <td>3</td>\n",
       "      <td>Chamassasya86</td>\n",
       "      <td>24</td>\n",
       "      <td>Male</td>\n",
       "      <td>100</td>\n",
       "      <td>Blindscythe</td>\n",
       "      <td>3.27</td>\n",
       "    </tr>\n",
       "    <tr>\n",
       "      <th>4</th>\n",
       "      <td>4</td>\n",
       "      <td>Iskosia90</td>\n",
       "      <td>23</td>\n",
       "      <td>Male</td>\n",
       "      <td>131</td>\n",
       "      <td>Fury</td>\n",
       "      <td>1.44</td>\n",
       "    </tr>\n",
       "  </tbody>\n",
       "</table>\n",
       "</div>"
      ],
      "text/plain": [
       "   Purchase ID             SN  Age Gender  Item ID  \\\n",
       "0            0        Lisim78   20   Male      108   \n",
       "1            1    Lisovynya38   40   Male      143   \n",
       "2            2     Ithergue48   24   Male       92   \n",
       "3            3  Chamassasya86   24   Male      100   \n",
       "4            4      Iskosia90   23   Male      131   \n",
       "\n",
       "                                   Item Name  Price  \n",
       "0  Extraction, Quickblade Of Trembling Hands   3.53  \n",
       "1                          Frenzied Scimitar   1.56  \n",
       "2                               Final Critic   4.88  \n",
       "3                                Blindscythe   3.27  \n",
       "4                                       Fury   1.44  "
      ]
     },
     "execution_count": 26,
     "metadata": {},
     "output_type": "execute_result"
    }
   ],
   "source": [
    "df.head()"
   ]
  },
  {
   "cell_type": "code",
   "execution_count": 27,
   "metadata": {},
   "outputs": [],
   "source": [
    "df.drop_duplicates(\"SN\", inplace=True)"
   ]
  },
  {
   "cell_type": "code",
   "execution_count": 28,
   "metadata": {},
   "outputs": [
    {
     "data": {
      "text/plain": [
       "45"
      ]
     },
     "execution_count": 28,
     "metadata": {},
     "output_type": "execute_result"
    }
   ],
   "source": [
    "df['Age'].max()"
   ]
  },
  {
   "cell_type": "code",
   "execution_count": 29,
   "metadata": {},
   "outputs": [],
   "source": [
    "bins = [0, 9, 14, 19, 24, 29, 34, 39, 45]\n",
    "group_names = [\"<10\", \"10-14\", \"15-19\", \"20-24\",\"25-29\", \"30-34\", \"35-39\", \"40+\"]\n",
    "\n",
    "\n",
    "df[\"AgeRange\"] = pd.cut(df[\"Age\"], bins, labels=group_names)"
   ]
  },
  {
   "cell_type": "code",
   "execution_count": 30,
   "metadata": {},
   "outputs": [
    {
     "data": {
      "text/html": [
       "<div>\n",
       "<style scoped>\n",
       "    .dataframe tbody tr th:only-of-type {\n",
       "        vertical-align: middle;\n",
       "    }\n",
       "\n",
       "    .dataframe tbody tr th {\n",
       "        vertical-align: top;\n",
       "    }\n",
       "\n",
       "    .dataframe thead th {\n",
       "        text-align: right;\n",
       "    }\n",
       "</style>\n",
       "<table border=\"1\" class=\"dataframe\">\n",
       "  <thead>\n",
       "    <tr style=\"text-align: right;\">\n",
       "      <th></th>\n",
       "      <th>Purchase ID</th>\n",
       "      <th>SN</th>\n",
       "      <th>Age</th>\n",
       "      <th>Gender</th>\n",
       "      <th>Item ID</th>\n",
       "      <th>Item Name</th>\n",
       "      <th>Price</th>\n",
       "      <th>AgeRange</th>\n",
       "    </tr>\n",
       "  </thead>\n",
       "  <tbody>\n",
       "    <tr>\n",
       "      <th>0</th>\n",
       "      <td>0</td>\n",
       "      <td>Lisim78</td>\n",
       "      <td>20</td>\n",
       "      <td>Male</td>\n",
       "      <td>108</td>\n",
       "      <td>Extraction, Quickblade Of Trembling Hands</td>\n",
       "      <td>3.53</td>\n",
       "      <td>20-24</td>\n",
       "    </tr>\n",
       "    <tr>\n",
       "      <th>1</th>\n",
       "      <td>1</td>\n",
       "      <td>Lisovynya38</td>\n",
       "      <td>40</td>\n",
       "      <td>Male</td>\n",
       "      <td>143</td>\n",
       "      <td>Frenzied Scimitar</td>\n",
       "      <td>1.56</td>\n",
       "      <td>40+</td>\n",
       "    </tr>\n",
       "    <tr>\n",
       "      <th>2</th>\n",
       "      <td>2</td>\n",
       "      <td>Ithergue48</td>\n",
       "      <td>24</td>\n",
       "      <td>Male</td>\n",
       "      <td>92</td>\n",
       "      <td>Final Critic</td>\n",
       "      <td>4.88</td>\n",
       "      <td>20-24</td>\n",
       "    </tr>\n",
       "    <tr>\n",
       "      <th>3</th>\n",
       "      <td>3</td>\n",
       "      <td>Chamassasya86</td>\n",
       "      <td>24</td>\n",
       "      <td>Male</td>\n",
       "      <td>100</td>\n",
       "      <td>Blindscythe</td>\n",
       "      <td>3.27</td>\n",
       "      <td>20-24</td>\n",
       "    </tr>\n",
       "    <tr>\n",
       "      <th>4</th>\n",
       "      <td>4</td>\n",
       "      <td>Iskosia90</td>\n",
       "      <td>23</td>\n",
       "      <td>Male</td>\n",
       "      <td>131</td>\n",
       "      <td>Fury</td>\n",
       "      <td>1.44</td>\n",
       "      <td>20-24</td>\n",
       "    </tr>\n",
       "    <tr>\n",
       "      <th>...</th>\n",
       "      <td>...</td>\n",
       "      <td>...</td>\n",
       "      <td>...</td>\n",
       "      <td>...</td>\n",
       "      <td>...</td>\n",
       "      <td>...</td>\n",
       "      <td>...</td>\n",
       "      <td>...</td>\n",
       "    </tr>\n",
       "    <tr>\n",
       "      <th>773</th>\n",
       "      <td>773</td>\n",
       "      <td>Hala31</td>\n",
       "      <td>21</td>\n",
       "      <td>Male</td>\n",
       "      <td>19</td>\n",
       "      <td>Pursuit, Cudgel of Necromancy</td>\n",
       "      <td>1.02</td>\n",
       "      <td>20-24</td>\n",
       "    </tr>\n",
       "    <tr>\n",
       "      <th>774</th>\n",
       "      <td>774</td>\n",
       "      <td>Jiskjask80</td>\n",
       "      <td>11</td>\n",
       "      <td>Male</td>\n",
       "      <td>101</td>\n",
       "      <td>Final Critic</td>\n",
       "      <td>4.19</td>\n",
       "      <td>10-14</td>\n",
       "    </tr>\n",
       "    <tr>\n",
       "      <th>775</th>\n",
       "      <td>775</td>\n",
       "      <td>Aethedru70</td>\n",
       "      <td>21</td>\n",
       "      <td>Female</td>\n",
       "      <td>60</td>\n",
       "      <td>Wolf</td>\n",
       "      <td>3.54</td>\n",
       "      <td>20-24</td>\n",
       "    </tr>\n",
       "    <tr>\n",
       "      <th>777</th>\n",
       "      <td>777</td>\n",
       "      <td>Yathecal72</td>\n",
       "      <td>20</td>\n",
       "      <td>Male</td>\n",
       "      <td>67</td>\n",
       "      <td>Celeste, Incarnation of the Corrupted</td>\n",
       "      <td>3.46</td>\n",
       "      <td>20-24</td>\n",
       "    </tr>\n",
       "    <tr>\n",
       "      <th>778</th>\n",
       "      <td>778</td>\n",
       "      <td>Sisur91</td>\n",
       "      <td>7</td>\n",
       "      <td>Male</td>\n",
       "      <td>101</td>\n",
       "      <td>Final Critic</td>\n",
       "      <td>4.19</td>\n",
       "      <td>&lt;10</td>\n",
       "    </tr>\n",
       "  </tbody>\n",
       "</table>\n",
       "<p>576 rows × 8 columns</p>\n",
       "</div>"
      ],
      "text/plain": [
       "     Purchase ID             SN  Age  Gender  Item ID  \\\n",
       "0              0        Lisim78   20    Male      108   \n",
       "1              1    Lisovynya38   40    Male      143   \n",
       "2              2     Ithergue48   24    Male       92   \n",
       "3              3  Chamassasya86   24    Male      100   \n",
       "4              4      Iskosia90   23    Male      131   \n",
       "..           ...            ...  ...     ...      ...   \n",
       "773          773         Hala31   21    Male       19   \n",
       "774          774     Jiskjask80   11    Male      101   \n",
       "775          775     Aethedru70   21  Female       60   \n",
       "777          777     Yathecal72   20    Male       67   \n",
       "778          778        Sisur91    7    Male      101   \n",
       "\n",
       "                                     Item Name  Price AgeRange  \n",
       "0    Extraction, Quickblade Of Trembling Hands   3.53    20-24  \n",
       "1                            Frenzied Scimitar   1.56      40+  \n",
       "2                                 Final Critic   4.88    20-24  \n",
       "3                                  Blindscythe   3.27    20-24  \n",
       "4                                         Fury   1.44    20-24  \n",
       "..                                         ...    ...      ...  \n",
       "773              Pursuit, Cudgel of Necromancy   1.02    20-24  \n",
       "774                               Final Critic   4.19    10-14  \n",
       "775                                       Wolf   3.54    20-24  \n",
       "777      Celeste, Incarnation of the Corrupted   3.46    20-24  \n",
       "778                               Final Critic   4.19      <10  \n",
       "\n",
       "[576 rows x 8 columns]"
      ]
     },
     "execution_count": 30,
     "metadata": {},
     "output_type": "execute_result"
    }
   ],
   "source": [
    "df"
   ]
  },
  {
   "cell_type": "code",
   "execution_count": 31,
   "metadata": {},
   "outputs": [],
   "source": [
    "age_summary = df.groupby(['AgeRange']).agg(['count'])['SN'].rename(columns={'count':'Total Count'})"
   ]
  },
  {
   "cell_type": "code",
   "execution_count": 32,
   "metadata": {},
   "outputs": [],
   "source": [
    "age_summary['Percentage']=age_summary['Total Count']/age_summary['Total Count'].sum()*100"
   ]
  },
  {
   "cell_type": "code",
   "execution_count": 33,
   "metadata": {
    "scrolled": false
   },
   "outputs": [
    {
     "data": {
      "text/html": [
       "<style  type=\"text/css\" >\n",
       "</style><table id=\"T_f51385d0_e4b6_11ea_a1f8_9c2a7085c132\" ><thead>    <tr>        <th class=\"blank level0\" ></th>        <th class=\"col_heading level0 col0\" >Total Count</th>        <th class=\"col_heading level0 col1\" >Percentage</th>    </tr>    <tr>        <th class=\"index_name level0\" >AgeRange</th>        <th class=\"blank\" ></th>        <th class=\"blank\" ></th>    </tr></thead><tbody>\n",
       "                <tr>\n",
       "                        <th id=\"T_f51385d0_e4b6_11ea_a1f8_9c2a7085c132level0_row0\" class=\"row_heading level0 row0\" ><10</th>\n",
       "                        <td id=\"T_f51385d0_e4b6_11ea_a1f8_9c2a7085c132row0_col0\" class=\"data row0 col0\" >17</td>\n",
       "                        <td id=\"T_f51385d0_e4b6_11ea_a1f8_9c2a7085c132row0_col1\" class=\"data row0 col1\" >                2.95 %</td>\n",
       "            </tr>\n",
       "            <tr>\n",
       "                        <th id=\"T_f51385d0_e4b6_11ea_a1f8_9c2a7085c132level0_row1\" class=\"row_heading level0 row1\" >10-14</th>\n",
       "                        <td id=\"T_f51385d0_e4b6_11ea_a1f8_9c2a7085c132row1_col0\" class=\"data row1 col0\" >22</td>\n",
       "                        <td id=\"T_f51385d0_e4b6_11ea_a1f8_9c2a7085c132row1_col1\" class=\"data row1 col1\" >                3.82 %</td>\n",
       "            </tr>\n",
       "            <tr>\n",
       "                        <th id=\"T_f51385d0_e4b6_11ea_a1f8_9c2a7085c132level0_row2\" class=\"row_heading level0 row2\" >15-19</th>\n",
       "                        <td id=\"T_f51385d0_e4b6_11ea_a1f8_9c2a7085c132row2_col0\" class=\"data row2 col0\" >107</td>\n",
       "                        <td id=\"T_f51385d0_e4b6_11ea_a1f8_9c2a7085c132row2_col1\" class=\"data row2 col1\" >               18.58 %</td>\n",
       "            </tr>\n",
       "            <tr>\n",
       "                        <th id=\"T_f51385d0_e4b6_11ea_a1f8_9c2a7085c132level0_row3\" class=\"row_heading level0 row3\" >20-24</th>\n",
       "                        <td id=\"T_f51385d0_e4b6_11ea_a1f8_9c2a7085c132row3_col0\" class=\"data row3 col0\" >258</td>\n",
       "                        <td id=\"T_f51385d0_e4b6_11ea_a1f8_9c2a7085c132row3_col1\" class=\"data row3 col1\" >               44.79 %</td>\n",
       "            </tr>\n",
       "            <tr>\n",
       "                        <th id=\"T_f51385d0_e4b6_11ea_a1f8_9c2a7085c132level0_row4\" class=\"row_heading level0 row4\" >25-29</th>\n",
       "                        <td id=\"T_f51385d0_e4b6_11ea_a1f8_9c2a7085c132row4_col0\" class=\"data row4 col0\" >77</td>\n",
       "                        <td id=\"T_f51385d0_e4b6_11ea_a1f8_9c2a7085c132row4_col1\" class=\"data row4 col1\" >               13.37 %</td>\n",
       "            </tr>\n",
       "            <tr>\n",
       "                        <th id=\"T_f51385d0_e4b6_11ea_a1f8_9c2a7085c132level0_row5\" class=\"row_heading level0 row5\" >30-34</th>\n",
       "                        <td id=\"T_f51385d0_e4b6_11ea_a1f8_9c2a7085c132row5_col0\" class=\"data row5 col0\" >52</td>\n",
       "                        <td id=\"T_f51385d0_e4b6_11ea_a1f8_9c2a7085c132row5_col1\" class=\"data row5 col1\" >                9.03 %</td>\n",
       "            </tr>\n",
       "            <tr>\n",
       "                        <th id=\"T_f51385d0_e4b6_11ea_a1f8_9c2a7085c132level0_row6\" class=\"row_heading level0 row6\" >35-39</th>\n",
       "                        <td id=\"T_f51385d0_e4b6_11ea_a1f8_9c2a7085c132row6_col0\" class=\"data row6 col0\" >31</td>\n",
       "                        <td id=\"T_f51385d0_e4b6_11ea_a1f8_9c2a7085c132row6_col1\" class=\"data row6 col1\" >                5.38 %</td>\n",
       "            </tr>\n",
       "            <tr>\n",
       "                        <th id=\"T_f51385d0_e4b6_11ea_a1f8_9c2a7085c132level0_row7\" class=\"row_heading level0 row7\" >40+</th>\n",
       "                        <td id=\"T_f51385d0_e4b6_11ea_a1f8_9c2a7085c132row7_col0\" class=\"data row7 col0\" >12</td>\n",
       "                        <td id=\"T_f51385d0_e4b6_11ea_a1f8_9c2a7085c132row7_col1\" class=\"data row7 col1\" >                2.08 %</td>\n",
       "            </tr>\n",
       "    </tbody></table>"
      ],
      "text/plain": [
       "<pandas.io.formats.style.Styler at 0x2e9eff35088>"
      ]
     },
     "execution_count": 33,
     "metadata": {},
     "output_type": "execute_result"
    }
   ],
   "source": [
    "age_summary.style.format({'Percentage' : \"{:20,.2f} %\"})"
   ]
  },
  {
   "cell_type": "markdown",
   "metadata": {},
   "source": [
    "## Reset"
   ]
  },
  {
   "cell_type": "code",
   "execution_count": 34,
   "metadata": {},
   "outputs": [],
   "source": [
    "df = purchase_data.assign(like=True).drop('like',axis=1)\n",
    "df[\"AgeRange\"] = pd.cut(df[\"Age\"], bins, labels=group_names)\n",
    "\n"
   ]
  },
  {
   "cell_type": "code",
   "execution_count": null,
   "metadata": {},
   "outputs": [],
   "source": []
  },
  {
   "cell_type": "markdown",
   "metadata": {},
   "source": [
    "## Purchasing Analysis (Age)"
   ]
  },
  {
   "cell_type": "markdown",
   "metadata": {},
   "source": [
    "* Bin the purchase_data data frame by age\n",
    "\n",
    "\n",
    "* Run basic calculations to obtain purchase count, avg. purchase price, avg. purchase total per person etc. in the table below\n",
    "\n",
    "\n",
    "* Create a summary data frame to hold the results\n",
    "\n",
    "\n",
    "* Optional: give the displayed data cleaner formatting\n",
    "\n",
    "\n",
    "* Display the summary data frame"
   ]
  },
  {
   "cell_type": "code",
   "execution_count": null,
   "metadata": {},
   "outputs": [],
   "source": []
  },
  {
   "cell_type": "code",
   "execution_count": 51,
   "metadata": {
    "scrolled": true
   },
   "outputs": [],
   "source": [
    "purchase_summary = df.groupby(['AgeRange']).agg(['count','mean','sum'])['Price']\\\n",
    "                                        .rename(columns={'sum':'Total Purchase Value',\\\n",
    "                                                    'mean':'Average Purchase Price',\\\n",
    "                                                    'count':'Purchase Count'})\n",
    "                       \n"
   ]
  },
  {
   "cell_type": "code",
   "execution_count": 60,
   "metadata": {},
   "outputs": [],
   "source": [
    "purchase_summary['Average Total Purchase per Person'] \\\n",
    "= purchase_summary['Total Purchase Value']/age_summary['Total Count']"
   ]
  },
  {
   "cell_type": "code",
   "execution_count": 64,
   "metadata": {},
   "outputs": [
    {
     "data": {
      "text/html": [
       "<style  type=\"text/css\" >\n",
       "</style><table id=\"T_4c12fa9e_e4bd_11ea_9481_9c2a7085c132\" ><thead>    <tr>        <th class=\"blank level0\" ></th>        <th class=\"col_heading level0 col0\" >Purchase Count</th>        <th class=\"col_heading level0 col1\" >Average Purchase Price</th>        <th class=\"col_heading level0 col2\" >Total Purchase Value</th>        <th class=\"col_heading level0 col3\" >Average Total Purchase per Person</th>    </tr>    <tr>        <th class=\"index_name level0\" >AgeRange</th>        <th class=\"blank\" ></th>        <th class=\"blank\" ></th>        <th class=\"blank\" ></th>        <th class=\"blank\" ></th>    </tr></thead><tbody>\n",
       "                <tr>\n",
       "                        <th id=\"T_4c12fa9e_e4bd_11ea_9481_9c2a7085c132level0_row0\" class=\"row_heading level0 row0\" ><10</th>\n",
       "                        <td id=\"T_4c12fa9e_e4bd_11ea_9481_9c2a7085c132row0_col0\" class=\"data row0 col0\" >23</td>\n",
       "                        <td id=\"T_4c12fa9e_e4bd_11ea_9481_9c2a7085c132row0_col1\" class=\"data row0 col1\" >$                3.35</td>\n",
       "                        <td id=\"T_4c12fa9e_e4bd_11ea_9481_9c2a7085c132row0_col2\" class=\"data row0 col2\" >$               77.13</td>\n",
       "                        <td id=\"T_4c12fa9e_e4bd_11ea_9481_9c2a7085c132row0_col3\" class=\"data row0 col3\" >$                4.54</td>\n",
       "            </tr>\n",
       "            <tr>\n",
       "                        <th id=\"T_4c12fa9e_e4bd_11ea_9481_9c2a7085c132level0_row1\" class=\"row_heading level0 row1\" >10-14</th>\n",
       "                        <td id=\"T_4c12fa9e_e4bd_11ea_9481_9c2a7085c132row1_col0\" class=\"data row1 col0\" >28</td>\n",
       "                        <td id=\"T_4c12fa9e_e4bd_11ea_9481_9c2a7085c132row1_col1\" class=\"data row1 col1\" >$                2.96</td>\n",
       "                        <td id=\"T_4c12fa9e_e4bd_11ea_9481_9c2a7085c132row1_col2\" class=\"data row1 col2\" >$               82.78</td>\n",
       "                        <td id=\"T_4c12fa9e_e4bd_11ea_9481_9c2a7085c132row1_col3\" class=\"data row1 col3\" >$                3.76</td>\n",
       "            </tr>\n",
       "            <tr>\n",
       "                        <th id=\"T_4c12fa9e_e4bd_11ea_9481_9c2a7085c132level0_row2\" class=\"row_heading level0 row2\" >15-19</th>\n",
       "                        <td id=\"T_4c12fa9e_e4bd_11ea_9481_9c2a7085c132row2_col0\" class=\"data row2 col0\" >136</td>\n",
       "                        <td id=\"T_4c12fa9e_e4bd_11ea_9481_9c2a7085c132row2_col1\" class=\"data row2 col1\" >$                3.04</td>\n",
       "                        <td id=\"T_4c12fa9e_e4bd_11ea_9481_9c2a7085c132row2_col2\" class=\"data row2 col2\" >$              412.89</td>\n",
       "                        <td id=\"T_4c12fa9e_e4bd_11ea_9481_9c2a7085c132row2_col3\" class=\"data row2 col3\" >$                3.86</td>\n",
       "            </tr>\n",
       "            <tr>\n",
       "                        <th id=\"T_4c12fa9e_e4bd_11ea_9481_9c2a7085c132level0_row3\" class=\"row_heading level0 row3\" >20-24</th>\n",
       "                        <td id=\"T_4c12fa9e_e4bd_11ea_9481_9c2a7085c132row3_col0\" class=\"data row3 col0\" >365</td>\n",
       "                        <td id=\"T_4c12fa9e_e4bd_11ea_9481_9c2a7085c132row3_col1\" class=\"data row3 col1\" >$                3.05</td>\n",
       "                        <td id=\"T_4c12fa9e_e4bd_11ea_9481_9c2a7085c132row3_col2\" class=\"data row3 col2\" >$            1,114.06</td>\n",
       "                        <td id=\"T_4c12fa9e_e4bd_11ea_9481_9c2a7085c132row3_col3\" class=\"data row3 col3\" >$                4.32</td>\n",
       "            </tr>\n",
       "            <tr>\n",
       "                        <th id=\"T_4c12fa9e_e4bd_11ea_9481_9c2a7085c132level0_row4\" class=\"row_heading level0 row4\" >25-29</th>\n",
       "                        <td id=\"T_4c12fa9e_e4bd_11ea_9481_9c2a7085c132row4_col0\" class=\"data row4 col0\" >101</td>\n",
       "                        <td id=\"T_4c12fa9e_e4bd_11ea_9481_9c2a7085c132row4_col1\" class=\"data row4 col1\" >$                2.90</td>\n",
       "                        <td id=\"T_4c12fa9e_e4bd_11ea_9481_9c2a7085c132row4_col2\" class=\"data row4 col2\" >$              293.00</td>\n",
       "                        <td id=\"T_4c12fa9e_e4bd_11ea_9481_9c2a7085c132row4_col3\" class=\"data row4 col3\" >$                3.81</td>\n",
       "            </tr>\n",
       "            <tr>\n",
       "                        <th id=\"T_4c12fa9e_e4bd_11ea_9481_9c2a7085c132level0_row5\" class=\"row_heading level0 row5\" >30-34</th>\n",
       "                        <td id=\"T_4c12fa9e_e4bd_11ea_9481_9c2a7085c132row5_col0\" class=\"data row5 col0\" >73</td>\n",
       "                        <td id=\"T_4c12fa9e_e4bd_11ea_9481_9c2a7085c132row5_col1\" class=\"data row5 col1\" >$                2.93</td>\n",
       "                        <td id=\"T_4c12fa9e_e4bd_11ea_9481_9c2a7085c132row5_col2\" class=\"data row5 col2\" >$              214.00</td>\n",
       "                        <td id=\"T_4c12fa9e_e4bd_11ea_9481_9c2a7085c132row5_col3\" class=\"data row5 col3\" >$                4.12</td>\n",
       "            </tr>\n",
       "            <tr>\n",
       "                        <th id=\"T_4c12fa9e_e4bd_11ea_9481_9c2a7085c132level0_row6\" class=\"row_heading level0 row6\" >35-39</th>\n",
       "                        <td id=\"T_4c12fa9e_e4bd_11ea_9481_9c2a7085c132row6_col0\" class=\"data row6 col0\" >41</td>\n",
       "                        <td id=\"T_4c12fa9e_e4bd_11ea_9481_9c2a7085c132row6_col1\" class=\"data row6 col1\" >$                3.60</td>\n",
       "                        <td id=\"T_4c12fa9e_e4bd_11ea_9481_9c2a7085c132row6_col2\" class=\"data row6 col2\" >$              147.67</td>\n",
       "                        <td id=\"T_4c12fa9e_e4bd_11ea_9481_9c2a7085c132row6_col3\" class=\"data row6 col3\" >$                4.76</td>\n",
       "            </tr>\n",
       "            <tr>\n",
       "                        <th id=\"T_4c12fa9e_e4bd_11ea_9481_9c2a7085c132level0_row7\" class=\"row_heading level0 row7\" >40+</th>\n",
       "                        <td id=\"T_4c12fa9e_e4bd_11ea_9481_9c2a7085c132row7_col0\" class=\"data row7 col0\" >13</td>\n",
       "                        <td id=\"T_4c12fa9e_e4bd_11ea_9481_9c2a7085c132row7_col1\" class=\"data row7 col1\" >$                2.94</td>\n",
       "                        <td id=\"T_4c12fa9e_e4bd_11ea_9481_9c2a7085c132row7_col2\" class=\"data row7 col2\" >$               38.24</td>\n",
       "                        <td id=\"T_4c12fa9e_e4bd_11ea_9481_9c2a7085c132row7_col3\" class=\"data row7 col3\" >$                3.19</td>\n",
       "            </tr>\n",
       "    </tbody></table>"
      ],
      "text/plain": [
       "<pandas.io.formats.style.Styler at 0x2e9f219c608>"
      ]
     },
     "execution_count": 64,
     "metadata": {},
     "output_type": "execute_result"
    }
   ],
   "source": [
    "purchase_summary.style.format({'Average Purchase Price': \"${:20,.2f}\",\\\n",
    "                               'Total Purchase Value':\"${:20,.2f}\",\\\n",
    "                                 'Average Total Purchase per Person':\"${:20,.2f}\"})"
   ]
  },
  {
   "cell_type": "code",
   "execution_count": null,
   "metadata": {},
   "outputs": [],
   "source": []
  },
  {
   "cell_type": "markdown",
   "metadata": {},
   "source": [
    "## Top Spenders"
   ]
  },
  {
   "cell_type": "markdown",
   "metadata": {},
   "source": [
    "* Run basic calculations to obtain the results in the table below\n",
    "\n",
    "\n",
    "* Create a summary data frame to hold the results\n",
    "\n",
    "\n",
    "* Sort the total purchase value column in descending order\n",
    "\n",
    "\n",
    "* Optional: give the displayed data cleaner formatting\n",
    "\n",
    "\n",
    "* Display a preview of the summary data frame\n",
    "\n",
    "*Top Spenders\n",
    "\n",
    "Identify the the top 5 spenders in the game by total purchase value, then list (in a table):\n",
    "\n",
    "SN\n",
    "Purchase Count\n",
    "Average Purchase Price\n",
    "Total Purchase Value\n",
    "\n"
   ]
  },
  {
   "cell_type": "code",
   "execution_count": 65,
   "metadata": {},
   "outputs": [],
   "source": [
    "snsummary = df.groupby(['SN']).agg(['count','mean','sum'])['Price']\\\n",
    "                            .sort_values(by='sum', ascending=False)\\\n",
    "                            .rename(columns={'count':'Purchase Count','mean':'Average Purchase Price','sum':'Total Purchase Value'})\\\n",
    "                            .head(5)\n",
    "                          "
   ]
  },
  {
   "cell_type": "code",
   "execution_count": 66,
   "metadata": {},
   "outputs": [
    {
     "data": {
      "text/html": [
       "<style  type=\"text/css\" >\n",
       "</style><table id=\"T_14bb4950_e4be_11ea_ab4f_9c2a7085c132\" ><thead>    <tr>        <th class=\"blank level0\" ></th>        <th class=\"col_heading level0 col0\" >Purchase Count</th>        <th class=\"col_heading level0 col1\" >Average Purchase Price</th>        <th class=\"col_heading level0 col2\" >Total Purchase Value</th>    </tr>    <tr>        <th class=\"index_name level0\" >SN</th>        <th class=\"blank\" ></th>        <th class=\"blank\" ></th>        <th class=\"blank\" ></th>    </tr></thead><tbody>\n",
       "                <tr>\n",
       "                        <th id=\"T_14bb4950_e4be_11ea_ab4f_9c2a7085c132level0_row0\" class=\"row_heading level0 row0\" >Lisosia93</th>\n",
       "                        <td id=\"T_14bb4950_e4be_11ea_ab4f_9c2a7085c132row0_col0\" class=\"data row0 col0\" >5</td>\n",
       "                        <td id=\"T_14bb4950_e4be_11ea_ab4f_9c2a7085c132row0_col1\" class=\"data row0 col1\" >$                3.79</td>\n",
       "                        <td id=\"T_14bb4950_e4be_11ea_ab4f_9c2a7085c132row0_col2\" class=\"data row0 col2\" >$               18.96</td>\n",
       "            </tr>\n",
       "            <tr>\n",
       "                        <th id=\"T_14bb4950_e4be_11ea_ab4f_9c2a7085c132level0_row1\" class=\"row_heading level0 row1\" >Idastidru52</th>\n",
       "                        <td id=\"T_14bb4950_e4be_11ea_ab4f_9c2a7085c132row1_col0\" class=\"data row1 col0\" >4</td>\n",
       "                        <td id=\"T_14bb4950_e4be_11ea_ab4f_9c2a7085c132row1_col1\" class=\"data row1 col1\" >$                3.86</td>\n",
       "                        <td id=\"T_14bb4950_e4be_11ea_ab4f_9c2a7085c132row1_col2\" class=\"data row1 col2\" >$               15.45</td>\n",
       "            </tr>\n",
       "            <tr>\n",
       "                        <th id=\"T_14bb4950_e4be_11ea_ab4f_9c2a7085c132level0_row2\" class=\"row_heading level0 row2\" >Chamjask73</th>\n",
       "                        <td id=\"T_14bb4950_e4be_11ea_ab4f_9c2a7085c132row2_col0\" class=\"data row2 col0\" >3</td>\n",
       "                        <td id=\"T_14bb4950_e4be_11ea_ab4f_9c2a7085c132row2_col1\" class=\"data row2 col1\" >$                4.61</td>\n",
       "                        <td id=\"T_14bb4950_e4be_11ea_ab4f_9c2a7085c132row2_col2\" class=\"data row2 col2\" >$               13.83</td>\n",
       "            </tr>\n",
       "            <tr>\n",
       "                        <th id=\"T_14bb4950_e4be_11ea_ab4f_9c2a7085c132level0_row3\" class=\"row_heading level0 row3\" >Iral74</th>\n",
       "                        <td id=\"T_14bb4950_e4be_11ea_ab4f_9c2a7085c132row3_col0\" class=\"data row3 col0\" >4</td>\n",
       "                        <td id=\"T_14bb4950_e4be_11ea_ab4f_9c2a7085c132row3_col1\" class=\"data row3 col1\" >$                3.40</td>\n",
       "                        <td id=\"T_14bb4950_e4be_11ea_ab4f_9c2a7085c132row3_col2\" class=\"data row3 col2\" >$               13.62</td>\n",
       "            </tr>\n",
       "            <tr>\n",
       "                        <th id=\"T_14bb4950_e4be_11ea_ab4f_9c2a7085c132level0_row4\" class=\"row_heading level0 row4\" >Iskadarya95</th>\n",
       "                        <td id=\"T_14bb4950_e4be_11ea_ab4f_9c2a7085c132row4_col0\" class=\"data row4 col0\" >3</td>\n",
       "                        <td id=\"T_14bb4950_e4be_11ea_ab4f_9c2a7085c132row4_col1\" class=\"data row4 col1\" >$                4.37</td>\n",
       "                        <td id=\"T_14bb4950_e4be_11ea_ab4f_9c2a7085c132row4_col2\" class=\"data row4 col2\" >$               13.10</td>\n",
       "            </tr>\n",
       "    </tbody></table>"
      ],
      "text/plain": [
       "<pandas.io.formats.style.Styler at 0x2e9f217d948>"
      ]
     },
     "execution_count": 66,
     "metadata": {},
     "output_type": "execute_result"
    }
   ],
   "source": [
    "snsummary.style.format({'Average Purchase Price':\"${:20,.2f}\",'Total Purchase Value':\"${:20,.2f}\"})"
   ]
  },
  {
   "cell_type": "markdown",
   "metadata": {},
   "source": [
    "## Most Popular Items"
   ]
  },
  {
   "cell_type": "markdown",
   "metadata": {},
   "source": [
    "* Retrieve the Item ID, Item Name, and Item Price columns\n",
    "\n",
    "\n",
    "* Group by Item ID and Item Name. Perform calculations to obtain purchase count, item price, and total purchase value\n",
    "\n",
    "\n",
    "* Create a summary data frame to hold the results\n",
    "\n",
    "\n",
    "* Sort the purchase count column in descending order\n",
    "\n",
    "\n",
    "* Optional: give the displayed data cleaner formatting\n",
    "\n",
    "\n",
    "* Display a preview of the summary data frame\n",
    "\n"
   ]
  },
  {
   "cell_type": "code",
   "execution_count": 69,
   "metadata": {},
   "outputs": [],
   "source": [
    "itemsummary = df.groupby(['Item ID','Item Name']).agg(['count','mean','sum'])['Price']\\\n",
    "                            .sort_values(by='count', ascending=False)\\\n",
    "                            .rename(columns={'count':'Purchase Count', 'mean':'Item Price','sum':\"Total Purchase Value\"})\\\n",
    "                            .head(5)\n",
    "            \n",
    "                           "
   ]
  },
  {
   "cell_type": "code",
   "execution_count": 70,
   "metadata": {},
   "outputs": [
    {
     "data": {
      "text/html": [
       "<style  type=\"text/css\" >\n",
       "</style><table id=\"T_d08bfe62_e4be_11ea_8818_9c2a7085c132\" ><thead>    <tr>        <th class=\"blank\" ></th>        <th class=\"blank level0\" ></th>        <th class=\"col_heading level0 col0\" >Purchase Count</th>        <th class=\"col_heading level0 col1\" >Item Price</th>        <th class=\"col_heading level0 col2\" >Total Purchase Value</th>    </tr>    <tr>        <th class=\"index_name level0\" >Item ID</th>        <th class=\"index_name level1\" >Item Name</th>        <th class=\"blank\" ></th>        <th class=\"blank\" ></th>        <th class=\"blank\" ></th>    </tr></thead><tbody>\n",
       "                <tr>\n",
       "                        <th id=\"T_d08bfe62_e4be_11ea_8818_9c2a7085c132level0_row0\" class=\"row_heading level0 row0\" >178</th>\n",
       "                        <th id=\"T_d08bfe62_e4be_11ea_8818_9c2a7085c132level1_row0\" class=\"row_heading level1 row0\" >Oathbreaker, Last Hope of the Breaking Storm</th>\n",
       "                        <td id=\"T_d08bfe62_e4be_11ea_8818_9c2a7085c132row0_col0\" class=\"data row0 col0\" >12</td>\n",
       "                        <td id=\"T_d08bfe62_e4be_11ea_8818_9c2a7085c132row0_col1\" class=\"data row0 col1\" >$                4.23</td>\n",
       "                        <td id=\"T_d08bfe62_e4be_11ea_8818_9c2a7085c132row0_col2\" class=\"data row0 col2\" >$               50.76</td>\n",
       "            </tr>\n",
       "            <tr>\n",
       "                        <th id=\"T_d08bfe62_e4be_11ea_8818_9c2a7085c132level0_row1\" class=\"row_heading level0 row1\" >145</th>\n",
       "                        <th id=\"T_d08bfe62_e4be_11ea_8818_9c2a7085c132level1_row1\" class=\"row_heading level1 row1\" >Fiery Glass Crusader</th>\n",
       "                        <td id=\"T_d08bfe62_e4be_11ea_8818_9c2a7085c132row1_col0\" class=\"data row1 col0\" >9</td>\n",
       "                        <td id=\"T_d08bfe62_e4be_11ea_8818_9c2a7085c132row1_col1\" class=\"data row1 col1\" >$                4.58</td>\n",
       "                        <td id=\"T_d08bfe62_e4be_11ea_8818_9c2a7085c132row1_col2\" class=\"data row1 col2\" >$               41.22</td>\n",
       "            </tr>\n",
       "            <tr>\n",
       "                        <th id=\"T_d08bfe62_e4be_11ea_8818_9c2a7085c132level0_row2\" class=\"row_heading level0 row2\" >108</th>\n",
       "                        <th id=\"T_d08bfe62_e4be_11ea_8818_9c2a7085c132level1_row2\" class=\"row_heading level1 row2\" >Extraction, Quickblade Of Trembling Hands</th>\n",
       "                        <td id=\"T_d08bfe62_e4be_11ea_8818_9c2a7085c132row2_col0\" class=\"data row2 col0\" >9</td>\n",
       "                        <td id=\"T_d08bfe62_e4be_11ea_8818_9c2a7085c132row2_col1\" class=\"data row2 col1\" >$                3.53</td>\n",
       "                        <td id=\"T_d08bfe62_e4be_11ea_8818_9c2a7085c132row2_col2\" class=\"data row2 col2\" >$               31.77</td>\n",
       "            </tr>\n",
       "            <tr>\n",
       "                        <th id=\"T_d08bfe62_e4be_11ea_8818_9c2a7085c132level0_row3\" class=\"row_heading level0 row3\" >82</th>\n",
       "                        <th id=\"T_d08bfe62_e4be_11ea_8818_9c2a7085c132level1_row3\" class=\"row_heading level1 row3\" >Nirvana</th>\n",
       "                        <td id=\"T_d08bfe62_e4be_11ea_8818_9c2a7085c132row3_col0\" class=\"data row3 col0\" >9</td>\n",
       "                        <td id=\"T_d08bfe62_e4be_11ea_8818_9c2a7085c132row3_col1\" class=\"data row3 col1\" >$                4.90</td>\n",
       "                        <td id=\"T_d08bfe62_e4be_11ea_8818_9c2a7085c132row3_col2\" class=\"data row3 col2\" >$               44.10</td>\n",
       "            </tr>\n",
       "            <tr>\n",
       "                        <th id=\"T_d08bfe62_e4be_11ea_8818_9c2a7085c132level0_row4\" class=\"row_heading level0 row4\" >19</th>\n",
       "                        <th id=\"T_d08bfe62_e4be_11ea_8818_9c2a7085c132level1_row4\" class=\"row_heading level1 row4\" >Pursuit, Cudgel of Necromancy</th>\n",
       "                        <td id=\"T_d08bfe62_e4be_11ea_8818_9c2a7085c132row4_col0\" class=\"data row4 col0\" >8</td>\n",
       "                        <td id=\"T_d08bfe62_e4be_11ea_8818_9c2a7085c132row4_col1\" class=\"data row4 col1\" >$                1.02</td>\n",
       "                        <td id=\"T_d08bfe62_e4be_11ea_8818_9c2a7085c132row4_col2\" class=\"data row4 col2\" >$                8.16</td>\n",
       "            </tr>\n",
       "    </tbody></table>"
      ],
      "text/plain": [
       "<pandas.io.formats.style.Styler at 0x2e9ef9f1e08>"
      ]
     },
     "execution_count": 70,
     "metadata": {},
     "output_type": "execute_result"
    }
   ],
   "source": [
    "itemsummary.style.format({'Item Price':\"${:20,.2f}\", \"Total Purchase Value\":\"${:20,.2f}\"})"
   ]
  },
  {
   "cell_type": "code",
   "execution_count": null,
   "metadata": {},
   "outputs": [],
   "source": []
  },
  {
   "cell_type": "code",
   "execution_count": null,
   "metadata": {},
   "outputs": [],
   "source": []
  },
  {
   "cell_type": "code",
   "execution_count": null,
   "metadata": {},
   "outputs": [],
   "source": []
  },
  {
   "cell_type": "code",
   "execution_count": null,
   "metadata": {},
   "outputs": [],
   "source": []
  },
  {
   "cell_type": "markdown",
   "metadata": {},
   "source": [
    "## Most Profitable Items"
   ]
  },
  {
   "cell_type": "markdown",
   "metadata": {},
   "source": [
    "* Sort the above table by total purchase value in descending order\n",
    "\n",
    "\n",
    "* Optional: give the displayed data cleaner formatting\n",
    "\n",
    "\n",
    "* Display a preview of the data frame\n",
    "\n"
   ]
  },
  {
   "cell_type": "code",
   "execution_count": 42,
   "metadata": {
    "scrolled": true
   },
   "outputs": [],
   "source": [
    "itemsummary2 = df.groupby(['Item ID','Item Name']).agg(['count','mean','sum'])['Price']\\\n",
    "                            .sort_values(by='sum', ascending=False)\\\n",
    "                            .rename(columns={'count':'Purchase Count', 'mean':'Item Price','sum':\"Total Purchase Value\"})\\\n",
    "                            .head(5)"
   ]
  },
  {
   "cell_type": "code",
   "execution_count": 43,
   "metadata": {},
   "outputs": [
    {
     "data": {
      "text/html": [
       "<style  type=\"text/css\" >\n",
       "</style><table id=\"T_f53d0140_e4b6_11ea_bbf4_9c2a7085c132\" ><thead>    <tr>        <th class=\"blank\" ></th>        <th class=\"blank level0\" ></th>        <th class=\"col_heading level0 col0\" >Purchase Count</th>        <th class=\"col_heading level0 col1\" >Item Price</th>        <th class=\"col_heading level0 col2\" >Total Purchase Value</th>    </tr>    <tr>        <th class=\"index_name level0\" >Item ID</th>        <th class=\"index_name level1\" >Item Name</th>        <th class=\"blank\" ></th>        <th class=\"blank\" ></th>        <th class=\"blank\" ></th>    </tr></thead><tbody>\n",
       "                <tr>\n",
       "                        <th id=\"T_f53d0140_e4b6_11ea_bbf4_9c2a7085c132level0_row0\" class=\"row_heading level0 row0\" >178</th>\n",
       "                        <th id=\"T_f53d0140_e4b6_11ea_bbf4_9c2a7085c132level1_row0\" class=\"row_heading level1 row0\" >Oathbreaker, Last Hope of the Breaking Storm</th>\n",
       "                        <td id=\"T_f53d0140_e4b6_11ea_bbf4_9c2a7085c132row0_col0\" class=\"data row0 col0\" >12</td>\n",
       "                        <td id=\"T_f53d0140_e4b6_11ea_bbf4_9c2a7085c132row0_col1\" class=\"data row0 col1\" >$                4.23</td>\n",
       "                        <td id=\"T_f53d0140_e4b6_11ea_bbf4_9c2a7085c132row0_col2\" class=\"data row0 col2\" >$               50.76</td>\n",
       "            </tr>\n",
       "            <tr>\n",
       "                        <th id=\"T_f53d0140_e4b6_11ea_bbf4_9c2a7085c132level0_row1\" class=\"row_heading level0 row1\" >82</th>\n",
       "                        <th id=\"T_f53d0140_e4b6_11ea_bbf4_9c2a7085c132level1_row1\" class=\"row_heading level1 row1\" >Nirvana</th>\n",
       "                        <td id=\"T_f53d0140_e4b6_11ea_bbf4_9c2a7085c132row1_col0\" class=\"data row1 col0\" >9</td>\n",
       "                        <td id=\"T_f53d0140_e4b6_11ea_bbf4_9c2a7085c132row1_col1\" class=\"data row1 col1\" >$                4.90</td>\n",
       "                        <td id=\"T_f53d0140_e4b6_11ea_bbf4_9c2a7085c132row1_col2\" class=\"data row1 col2\" >$               44.10</td>\n",
       "            </tr>\n",
       "            <tr>\n",
       "                        <th id=\"T_f53d0140_e4b6_11ea_bbf4_9c2a7085c132level0_row2\" class=\"row_heading level0 row2\" >145</th>\n",
       "                        <th id=\"T_f53d0140_e4b6_11ea_bbf4_9c2a7085c132level1_row2\" class=\"row_heading level1 row2\" >Fiery Glass Crusader</th>\n",
       "                        <td id=\"T_f53d0140_e4b6_11ea_bbf4_9c2a7085c132row2_col0\" class=\"data row2 col0\" >9</td>\n",
       "                        <td id=\"T_f53d0140_e4b6_11ea_bbf4_9c2a7085c132row2_col1\" class=\"data row2 col1\" >$                4.58</td>\n",
       "                        <td id=\"T_f53d0140_e4b6_11ea_bbf4_9c2a7085c132row2_col2\" class=\"data row2 col2\" >$               41.22</td>\n",
       "            </tr>\n",
       "            <tr>\n",
       "                        <th id=\"T_f53d0140_e4b6_11ea_bbf4_9c2a7085c132level0_row3\" class=\"row_heading level0 row3\" >92</th>\n",
       "                        <th id=\"T_f53d0140_e4b6_11ea_bbf4_9c2a7085c132level1_row3\" class=\"row_heading level1 row3\" >Final Critic</th>\n",
       "                        <td id=\"T_f53d0140_e4b6_11ea_bbf4_9c2a7085c132row3_col0\" class=\"data row3 col0\" >8</td>\n",
       "                        <td id=\"T_f53d0140_e4b6_11ea_bbf4_9c2a7085c132row3_col1\" class=\"data row3 col1\" >$                4.88</td>\n",
       "                        <td id=\"T_f53d0140_e4b6_11ea_bbf4_9c2a7085c132row3_col2\" class=\"data row3 col2\" >$               39.04</td>\n",
       "            </tr>\n",
       "            <tr>\n",
       "                        <th id=\"T_f53d0140_e4b6_11ea_bbf4_9c2a7085c132level0_row4\" class=\"row_heading level0 row4\" >103</th>\n",
       "                        <th id=\"T_f53d0140_e4b6_11ea_bbf4_9c2a7085c132level1_row4\" class=\"row_heading level1 row4\" >Singed Scalpel</th>\n",
       "                        <td id=\"T_f53d0140_e4b6_11ea_bbf4_9c2a7085c132row4_col0\" class=\"data row4 col0\" >8</td>\n",
       "                        <td id=\"T_f53d0140_e4b6_11ea_bbf4_9c2a7085c132row4_col1\" class=\"data row4 col1\" >$                4.35</td>\n",
       "                        <td id=\"T_f53d0140_e4b6_11ea_bbf4_9c2a7085c132row4_col2\" class=\"data row4 col2\" >$               34.80</td>\n",
       "            </tr>\n",
       "    </tbody></table>"
      ],
      "text/plain": [
       "<pandas.io.formats.style.Styler at 0x2e9eff35c88>"
      ]
     },
     "execution_count": 43,
     "metadata": {},
     "output_type": "execute_result"
    }
   ],
   "source": [
    "itemsummary2.style.format({'Item Price':\"${:20,.2f}\", \"Total Purchase Value\":\"${:20,.2f}\"})"
   ]
  },
  {
   "cell_type": "code",
   "execution_count": null,
   "metadata": {},
   "outputs": [],
   "source": []
  }
 ],
 "metadata": {
  "anaconda-cloud": {},
  "kernel_info": {
   "name": "python3"
  },
  "kernelspec": {
   "display_name": "Python 3",
   "language": "python",
   "name": "python3"
  },
  "language_info": {
   "codemirror_mode": {
    "name": "ipython",
    "version": 3
   },
   "file_extension": ".py",
   "mimetype": "text/x-python",
   "name": "python",
   "nbconvert_exporter": "python",
   "pygments_lexer": "ipython3",
   "version": "3.7.6"
  },
  "latex_envs": {
   "LaTeX_envs_menu_present": true,
   "autoclose": false,
   "autocomplete": true,
   "bibliofile": "biblio.bib",
   "cite_by": "apalike",
   "current_citInitial": 1,
   "eqLabelWithNumbers": true,
   "eqNumInitial": 1,
   "hotkeys": {
    "equation": "Ctrl-E",
    "itemize": "Ctrl-I"
   },
   "labels_anchors": false,
   "latex_user_defs": false,
   "report_style_numbering": false,
   "user_envs_cfg": false
  },
  "nteract": {
   "version": "0.2.0"
  },
  "varInspector": {
   "cols": {
    "lenName": 16,
    "lenType": 16,
    "lenVar": 40
   },
   "kernels_config": {
    "python": {
     "delete_cmd_postfix": "",
     "delete_cmd_prefix": "del ",
     "library": "var_list.py",
     "varRefreshCmd": "print(var_dic_list())"
    },
    "r": {
     "delete_cmd_postfix": ") ",
     "delete_cmd_prefix": "rm(",
     "library": "var_list.r",
     "varRefreshCmd": "cat(var_dic_list()) "
    }
   },
   "types_to_exclude": [
    "module",
    "function",
    "builtin_function_or_method",
    "instance",
    "_Feature"
   ],
   "window_display": false
  }
 },
 "nbformat": 4,
 "nbformat_minor": 2
}
